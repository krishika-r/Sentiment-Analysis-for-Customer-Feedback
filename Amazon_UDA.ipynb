{
 "cells": [
  {
   "cell_type": "code",
   "execution_count": 1,
   "metadata": {},
   "outputs": [],
   "source": [
    "import pandas as pd"
   ]
  },
  {
   "cell_type": "code",
   "execution_count": 2,
   "metadata": {},
   "outputs": [],
   "source": [
    "amazon_labeled=pd.read_csv('SIHN/amazon_labeled.csv')"
   ]
  },
  {
   "cell_type": "code",
   "execution_count": 3,
   "metadata": {},
   "outputs": [],
   "source": [
    "amazon_labeled=amazon_labeled.sample(frac=1).reset_index(drop=True)"
   ]
  },
  {
   "cell_type": "code",
   "execution_count": 4,
   "metadata": {},
   "outputs": [
    {
     "name": "stdout",
     "output_type": "stream",
     "text": [
      "Sentiments Distribution:\n",
      " 5    252\n",
      "4    153\n",
      "3     75\n",
      "1     69\n",
      "2     50\n",
      "Name: Ratings, dtype: int64\n"
     ]
    }
   ],
   "source": [
    "print(\"Sentiments Distribution:\\n\",amazon_labeled['Ratings'].value_counts())"
   ]
  },
  {
   "cell_type": "code",
   "execution_count": 5,
   "metadata": {},
   "outputs": [
    {
     "name": "stdout",
     "output_type": "stream",
     "text": [
      "Length of unaugmented data: 2999\n",
      "Length of augmented data: 2999\n"
     ]
    }
   ],
   "source": [
    "amazon_unaugmented=pd.read_csv('SIHN/amazon_unaugmented.csv')\n",
    "amazon_augmented=pd.read_csv('SIHN/amazon_augmented.csv')\n",
    "print(\"Length of unaugmented data:\",len(amazon_unaugmented))\n",
    "print(\"Length of augmented data:\",len(amazon_augmented))"
   ]
  },
  {
   "cell_type": "code",
   "execution_count": 6,
   "metadata": {},
   "outputs": [],
   "source": [
    "binary_list=[]\n",
    "for i in range(len(amazon_labeled)):\n",
    "    if amazon_labeled.Ratings[i] >3:\n",
    "        binary_list.append(1)\n",
    "    elif amazon_labeled.Ratings[i] <=3: \n",
    "        binary_list.append(0)"
   ]
  },
  {
   "cell_type": "code",
   "execution_count": 7,
   "metadata": {},
   "outputs": [],
   "source": [
    "amazon_labeled['Sentiments']=binary_list"
   ]
  },
  {
   "cell_type": "code",
   "execution_count": 8,
   "metadata": {},
   "outputs": [
    {
     "name": "stdout",
     "output_type": "stream",
     "text": [
      "Sentiment Distribution:\n",
      "1    405\n",
      "0    194\n",
      "Name: Sentiments, dtype: int64\n"
     ]
    }
   ],
   "source": [
    "print(\"Sentiment Distribution:\")\n",
    "print(amazon_labeled['Sentiments'].value_counts())"
   ]
  },
  {
   "cell_type": "code",
   "execution_count": 9,
   "metadata": {},
   "outputs": [
    {
     "name": "stdout",
     "output_type": "stream",
     "text": [
      "[nltk_data] Downloading package punkt to /root/nltk_data...\n",
      "[nltk_data]   Package punkt is already up-to-date!\n"
     ]
    }
   ],
   "source": [
    "import pandas as pd\n",
    "import numpy as np\n",
    "import re\n",
    "import time\n",
    "import warnings\n",
    "import torch\n",
    "import torch.nn as nn\n",
    "import torch.nn.functional as F\n",
    "import numpy as np\n",
    "from sklearn.model_selection import train_test_split\n",
    "from sklearn.feature_extraction.text import TfidfVectorizer\n",
    "from sklearn.feature_extraction.text import CountVectorizer\n",
    "import matplotlib.pyplot as plt\n",
    "from matplotlib.pyplot import figure, show\n",
    "from matplotlib.ticker import MaxNLocator\n",
    "from sklearn.linear_model import LogisticRegression\n",
    "from sklearn.metrics import accuracy_score,confusion_matrix,classification_report\n",
    "from sklearn.preprocessing import Normalizer\n",
    "from torch.utils.data import TensorDataset\n",
    "from torch.utils.data import DataLoader\n",
    "import seaborn as sns\n",
    "import nltk\n",
    "nltk.download('punkt')\n",
    "from gensim.models import FastText as ft"
   ]
  },
  {
   "cell_type": "code",
   "execution_count": 10,
   "metadata": {},
   "outputs": [],
   "source": [
    "def text_preprocess(text):\n",
    "    text=re.sub('\\n','',text)\n",
    "    text=text.lower()\n",
    "    text=re.sub(r'[^\\w]', ' ',text)\n",
    "    text=re.sub('<br>','',text)\n",
    "    text=re.sub(r'\\s([?.!\"](?:\\s|$))', r'\\1', text)\n",
    "    text=re.sub('[^.,a-zA-Z0-9 \\n\\.]', '', text)\n",
    "    return text"
   ]
  },
  {
   "cell_type": "code",
   "execution_count": 11,
   "metadata": {},
   "outputs": [],
   "source": [
    "def word_embeddings(reviews):\n",
    "    first_review=reviews[0]\n",
    "    first_tokenized_review=nltk.word_tokenize(first_review)\n",
    "    first_review_vectors=word_embeddings_model.wv[first_tokenized_review]\n",
    "    first_review_vectors_mean=np.mean(first_review_vectors,axis=0)\n",
    "    first_review_vectors_mean=first_review_vectors_mean.reshape(1,-1)\n",
    "    final_review_vectors_mean=first_review_vectors_mean\n",
    "    for i in range(1,len(reviews)):\n",
    "        review=reviews[i]\n",
    "        review_tokens=nltk.word_tokenize(review)\n",
    "        review_vector=word_embeddings_model.wv[review_tokens]\n",
    "        review_vector_mean=np.mean(review_vector,axis=0)\n",
    "        review_vector_mean=review_vector_mean.reshape(1,-1)\n",
    "        final_review_vectors_mean=np.concatenate((final_review_vectors_mean,review_vector_mean))\n",
    "    return final_review_vectors_mean"
   ]
  },
  {
   "cell_type": "code",
   "execution_count": 12,
   "metadata": {},
   "outputs": [
    {
     "name": "stderr",
     "output_type": "stream",
     "text": [
      "/usr/local/lib/python3.7/site-packages/ipykernel_launcher.py:1: DeprecationWarning: Call to deprecated `load_fasttext_format` (use load_facebook_vectors (to use pretrained embeddings) or load_facebook_model (to continue training with the loaded full model, more RAM) instead).\n",
      "  \"\"\"Entry point for launching an IPython kernel.\n"
     ]
    }
   ],
   "source": [
    "word_embeddings_model=ft.load_fasttext_format(\"cc.en.300.bin\")"
   ]
  },
  {
   "cell_type": "code",
   "execution_count": 13,
   "metadata": {},
   "outputs": [],
   "source": [
    "def load_checkpoint(filepath):\n",
    "    checkpoint = torch.load(filepath)\n",
    "    model = checkpoint['model']\n",
    "    model.load_state_dict(checkpoint['state_dict'])\n",
    "    for parameter in model.parameters():\n",
    "        parameter.requires_grad = False\n",
    "    model.eval()\n",
    "    return model"
   ]
  },
  {
   "cell_type": "code",
   "execution_count": 14,
   "metadata": {},
   "outputs": [],
   "source": [
    "def repeat_dataloader(iteralbe):\n",
    "        \"\"\" repeat dataloader \"\"\"\n",
    "        while True:\n",
    "            for x in iteralbe:\n",
    "                yield x"
   ]
  },
  {
   "cell_type": "code",
   "execution_count": 15,
   "metadata": {},
   "outputs": [],
   "source": [
    "Xtrain, Xtest, Ytrain, Ytest =train_test_split(amazon_labeled['Reviews'],amazon_labeled['Sentiments'])"
   ]
  },
  {
   "cell_type": "code",
   "execution_count": 16,
   "metadata": {},
   "outputs": [],
   "source": [
    "Xtrain=Xtrain.reset_index(drop=True)\n",
    "supervised_train_x_reviews=Xtrain"
   ]
  },
  {
   "cell_type": "code",
   "execution_count": 17,
   "metadata": {},
   "outputs": [],
   "source": [
    "Xtest=Xtest.reset_index(drop=True)\n",
    "eval_test_x_reviews=Xtest"
   ]
  },
  {
   "cell_type": "code",
   "execution_count": 18,
   "metadata": {},
   "outputs": [],
   "source": [
    "Ytrain=Ytrain.reset_index(drop=True)\n",
    "Ytest=Ytest.reset_index(drop=True)"
   ]
  },
  {
   "cell_type": "code",
   "execution_count": 19,
   "metadata": {},
   "outputs": [],
   "source": [
    "unaugmented_x=pd.read_csv('SIHN/amazon_unaugmented.csv')\n",
    "augmented_x=pd.read_csv('SIHN/amazon_augmented.csv')"
   ]
  },
  {
   "cell_type": "code",
   "execution_count": 20,
   "metadata": {},
   "outputs": [
    {
     "name": "stdout",
     "output_type": "stream",
     "text": [
      "Length of unaugmented data: 2999\n",
      "Length of augmented data: 2999\n"
     ]
    }
   ],
   "source": [
    "print(\"Length of unaugmented data:\",len(unaugmented_x))\n",
    "print(\"Length of augmented data:\",len(augmented_x))"
   ]
  },
  {
   "cell_type": "code",
   "execution_count": 21,
   "metadata": {},
   "outputs": [],
   "source": [
    "unaugmented_x=unaugmented_x['Reviews']\n",
    "augmented_x=augmented_x['Reviews']\n",
    "supervised_train_y=Ytrain\n",
    "eval_test_y=Ytest"
   ]
  },
  {
   "cell_type": "code",
   "execution_count": 22,
   "metadata": {},
   "outputs": [],
   "source": [
    "supervised_train_x_reviews=supervised_train_x_reviews.map(lambda com : text_preprocess(com))\n",
    "eval_test_x_reviews=eval_test_x_reviews.map(lambda com : text_preprocess(com))\n",
    "unaugmented_x=unaugmented_x.map(lambda com : text_preprocess(com))\n",
    "augmented_x=augmented_x.map(lambda com : text_preprocess(com))"
   ]
  },
  {
   "cell_type": "code",
   "execution_count": 23,
   "metadata": {},
   "outputs": [
    {
     "name": "stdout",
     "output_type": "stream",
     "text": [
      "2999 2999\n"
     ]
    }
   ],
   "source": [
    "print(len(augmented_x),len(augmented_x))"
   ]
  },
  {
   "cell_type": "code",
   "execution_count": 24,
   "metadata": {},
   "outputs": [],
   "source": [
    "indexes=[]\n",
    "for i in range(len(augmented_x)):\n",
    "    if not augmented_x[i].strip():\n",
    "        indexes.append(i)"
   ]
  },
  {
   "cell_type": "code",
   "execution_count": 25,
   "metadata": {},
   "outputs": [],
   "source": [
    "for i in indexes:\n",
    "    del augmented_x[i]"
   ]
  },
  {
   "cell_type": "code",
   "execution_count": 26,
   "metadata": {},
   "outputs": [],
   "source": [
    "for j in indexes:\n",
    "    del unaugmented_x[j]"
   ]
  },
  {
   "cell_type": "code",
   "execution_count": 27,
   "metadata": {},
   "outputs": [],
   "source": [
    "unaugmented_x=unaugmented_x.reset_index(drop=True)\n",
    "augmented_x=augmented_x.reset_index(drop=True)"
   ]
  },
  {
   "cell_type": "code",
   "execution_count": 28,
   "metadata": {},
   "outputs": [
    {
     "name": "stdout",
     "output_type": "stream",
     "text": [
      "2996 2996\n"
     ]
    }
   ],
   "source": [
    "print(len(unaugmented_x),len(augmented_x))"
   ]
  },
  {
   "cell_type": "code",
   "execution_count": 29,
   "metadata": {},
   "outputs": [],
   "source": [
    "supervised_train_x_vectors=word_embeddings(supervised_train_x_reviews)\n",
    "eval_test_x_vectors=word_embeddings(eval_test_x_reviews)\n",
    "unaugmented_x_vectors=word_embeddings(unaugmented_x)\n",
    "augmented_x_vectors=word_embeddings(augmented_x)"
   ]
  },
  {
   "cell_type": "code",
   "execution_count": 30,
   "metadata": {},
   "outputs": [
    {
     "data": {
      "text/plain": [
       "(2996, 300)"
      ]
     },
     "execution_count": 30,
     "metadata": {},
     "output_type": "execute_result"
    }
   ],
   "source": [
    "augmented_x_vectors.shape"
   ]
  },
  {
   "cell_type": "code",
   "execution_count": 31,
   "metadata": {},
   "outputs": [],
   "source": [
    "supervised_train_x_vectors=supervised_train_x_vectors.astype(float)\n",
    "eval_test_x_vectors=eval_test_x_vectors.astype(float)\n",
    "unaugmented_x_vectors=unaugmented_x_vectors.astype(float)\n",
    "augmented_x_vectors=augmented_x_vectors.astype(float)\n",
    "supervised_train_y_vectors=supervised_train_y.values\n",
    "eval_test_y_vectors=eval_test_y.values\n",
    "supervised_train_y_vectors=supervised_train_y_vectors.astype(float)\n",
    "eval_test_y_vectors=eval_test_y_vectors.astype(float)\n",
    "supervised_train_y_vectors=supervised_train_y_vectors.reshape(-1,1)\n",
    "eval_test_y_vectors=eval_test_y_vectors.reshape(-1,1)"
   ]
  },
  {
   "cell_type": "code",
   "execution_count": 32,
   "metadata": {},
   "outputs": [],
   "source": [
    "supervised_xtrain_tensor=torch.tensor(supervised_train_x_vectors,dtype=torch.float)\n",
    "eval_xtest_tensor=torch.tensor(eval_test_x_vectors,dtype=torch.float)\n",
    "supervised_ytrain_tensor=torch.tensor(supervised_train_y_vectors,dtype=torch.float)\n",
    "eval_ytest_tensor=torch.tensor(eval_test_y_vectors,dtype=torch.float)\n",
    "unaugmented_x_tensor=torch.tensor(unaugmented_x_vectors,dtype=torch.float)\n",
    "augmented_x_tensor=torch.tensor(augmented_x_vectors,dtype=torch.float)"
   ]
  },
  {
   "cell_type": "code",
   "execution_count": 33,
   "metadata": {},
   "outputs": [
    {
     "name": "stdout",
     "output_type": "stream",
     "text": [
      "torch.Size([449, 300])\n",
      "torch.Size([449, 1])\n"
     ]
    }
   ],
   "source": [
    "print(supervised_xtrain_tensor.shape)\n",
    "print(supervised_ytrain_tensor.shape)"
   ]
  },
  {
   "cell_type": "code",
   "execution_count": 34,
   "metadata": {},
   "outputs": [],
   "source": [
    "class NNClassifier(nn.Module):  # inheriting from nn.Module!\n",
    "\n",
    "    def __init__(self, input_size, output_size):\n",
    "        super(NNClassifier, self).__init__()\n",
    "        self.linear = torch.nn.Linear(input_size, output_size)  \n",
    "            \n",
    "    def forward(self, x):\n",
    "        y_pred = F.sigmoid(self.linear(x))\n",
    "        return y_pred"
   ]
  },
  {
   "cell_type": "code",
   "execution_count": 35,
   "metadata": {},
   "outputs": [],
   "source": [
    "input_size=supervised_xtrain_tensor.size()[1]\n",
    "output_size=1"
   ]
  },
  {
   "cell_type": "code",
   "execution_count": 36,
   "metadata": {},
   "outputs": [],
   "source": [
    "model=NNClassifier(input_size,output_size)\n",
    "num_epochs=100\n",
    "sup_criterion = nn.BCELoss(reduction='mean')\n",
    "unsup_criterion= nn.KLDivLoss(reduction='batchmean')\n",
    "optimizer = torch.optim.Adam(model.parameters(), lr=0.002)"
   ]
  },
  {
   "cell_type": "code",
   "execution_count": 37,
   "metadata": {},
   "outputs": [],
   "source": [
    "supervised_train_data = TensorDataset(supervised_xtrain_tensor , supervised_ytrain_tensor)\n",
    "#print(supervised_train_data[2])"
   ]
  },
  {
   "cell_type": "code",
   "execution_count": 38,
   "metadata": {},
   "outputs": [],
   "source": [
    "unsupervised_train_data = TensorDataset(unaugmented_x_tensor , augmented_x_tensor)\n",
    "#print(unsupervised_train_data[15])"
   ]
  },
  {
   "cell_type": "code",
   "execution_count": 39,
   "metadata": {},
   "outputs": [],
   "source": [
    "supervised_train_batch_size=25\n",
    "unsupervised_ratio=3\n",
    "unsupervised_train_batch_size=supervised_train_batch_size * unsupervised_ratio"
   ]
  },
  {
   "cell_type": "code",
   "execution_count": 40,
   "metadata": {},
   "outputs": [],
   "source": [
    "supervised_train_loader = DataLoader(dataset=supervised_train_data, batch_size=supervised_train_batch_size, shuffle=True)"
   ]
  },
  {
   "cell_type": "code",
   "execution_count": 41,
   "metadata": {},
   "outputs": [],
   "source": [
    "unsupervised_train_loader= DataLoader(dataset=unsupervised_train_data, batch_size=unsupervised_train_batch_size, shuffle=True)"
   ]
  },
  {
   "cell_type": "code",
   "execution_count": 42,
   "metadata": {},
   "outputs": [
    {
     "data": {
      "text/plain": [
       "18"
      ]
     },
     "execution_count": 42,
     "metadata": {},
     "output_type": "execute_result"
    }
   ],
   "source": [
    "len(supervised_train_loader)"
   ]
  },
  {
   "cell_type": "code",
   "execution_count": 43,
   "metadata": {},
   "outputs": [
    {
     "data": {
      "text/plain": [
       "40"
      ]
     },
     "execution_count": 43,
     "metadata": {},
     "output_type": "execute_result"
    }
   ],
   "source": [
    "len(unsupervised_train_loader)"
   ]
  },
  {
   "cell_type": "code",
   "execution_count": 44,
   "metadata": {},
   "outputs": [],
   "source": [
    "supervised_train_loader=repeat_dataloader(supervised_train_loader)"
   ]
  },
  {
   "cell_type": "code",
   "execution_count": 45,
   "metadata": {},
   "outputs": [],
   "source": [
    "def get_loss(model,sup_batch,unsup_batch,sup_crtiterion,unsup_criterion,weight_factor):\n",
    "    pred_prob=model(sup_batch[0])\n",
    "    #print(pred_prob)\n",
    "    #sup_batch[1]=sup_batch[1].reshape(-1)\n",
    "    sup_loss=sup_criterion(pred_prob,sup_batch[1])\n",
    "    aug_prob=model(unsup_batch[0])\n",
    "    unaug_prob=model(unsup_batch[1])\n",
    "    unsup_loss=unsup_criterion(aug_prob,unaug_prob)\n",
    "    final_loss = sup_loss + (weight_factor * unsup_loss)\n",
    "    return sup_loss,unsup_loss,final_loss"
   ]
  },
  {
   "cell_type": "code",
   "execution_count": 46,
   "metadata": {},
   "outputs": [],
   "source": [
    "def get_accuracy(actual,predicted):\n",
    "    actual=actual.numpy()\n",
    "    pred_list=[]\n",
    "    for i in range(len(predicted)):\n",
    "        p=predicted[i].reshape(1,-1)\n",
    "        for j in range(len(p)):\n",
    "            if p[j]>0.5:\n",
    "                pred_list.append(1)\n",
    "            elif p[j]<0.5:\n",
    "                pred_list.append(0)\n",
    "    return accuracy_score(actual,pred_list)"
   ]
  },
  {
   "cell_type": "code",
   "execution_count": 47,
   "metadata": {},
   "outputs": [],
   "source": [
    "for epoch in range(num_epochs):\n",
    "    for i,batch in enumerate(unsupervised_train_loader):\n",
    "        unsup_batch=[t for t in batch]\n",
    "        sup_batch=[t for t in next(supervised_train_loader)]\n",
    "        "
   ]
  },
  {
   "cell_type": "code",
   "execution_count": 48,
   "metadata": {},
   "outputs": [
    {
     "name": "stderr",
     "output_type": "stream",
     "text": [
      "/usr/local/lib/python3.7/site-packages/torch/nn/functional.py:1350: UserWarning: nn.functional.sigmoid is deprecated. Use torch.sigmoid instead.\n",
      "  warnings.warn(\"nn.functional.sigmoid is deprecated. Use torch.sigmoid instead.\")\n"
     ]
    },
    {
     "data": {
      "text/plain": [
       "tensor([0.5249], grad_fn=<SigmoidBackward>)"
      ]
     },
     "execution_count": 48,
     "metadata": {},
     "output_type": "execute_result"
    }
   ],
   "source": [
    "model(sup_batch[0][0])"
   ]
  },
  {
   "cell_type": "code",
   "execution_count": 64,
   "metadata": {},
   "outputs": [
    {
     "name": "stderr",
     "output_type": "stream",
     "text": [
      "/usr/local/lib/python3.7/site-packages/torch/nn/functional.py:1350: UserWarning: nn.functional.sigmoid is deprecated. Use torch.sigmoid instead.\n",
      "  warnings.warn(\"nn.functional.sigmoid is deprecated. Use torch.sigmoid instead.\")\n",
      "/usr/local/lib/python3.7/site-packages/torch/nn/modules/loss.py:498: UserWarning: Using a target size (torch.Size([150])) that is different to the input size (torch.Size([150, 1])) is deprecated. Please ensure they have the same size.\n",
      "  return F.binary_cross_entropy(input, target, weight=self.weight, reduction=self.reduction)\n",
      "/usr/local/lib/python3.7/site-packages/torch/serialization.py:256: UserWarning: Couldn't retrieve source code for container of type NNClassifier. It won't be checked for correctness upon loading.\n",
      "  \"type \" + obj.__name__ + \". It won't be checked \"\n"
     ]
    },
    {
     "name": "stdout",
     "output_type": "stream",
     "text": [
      "Epoch: 0, train_accuray: 0.7350 test_accuracy: 0.6533\n",
      "Epoch: 1, train_accuray: 0.7350 test_accuracy: 0.6533\n",
      "Epoch: 2, train_accuray: 0.7350 test_accuracy: 0.6533\n",
      "Epoch: 3, train_accuray: 0.7350 test_accuracy: 0.6533\n",
      "Epoch: 4, train_accuray: 0.7350 test_accuracy: 0.6533\n",
      "Epoch: 5, train_accuray: 0.7350 test_accuracy: 0.6600\n",
      "Epoch: 6, train_accuray: 0.7350 test_accuracy: 0.6533\n",
      "Epoch: 7, train_accuray: 0.7350 test_accuracy: 0.6533\n",
      "Epoch: 8, train_accuray: 0.7350 test_accuracy: 0.6533\n",
      "Epoch: 9, train_accuray: 0.7372 test_accuracy: 0.6600\n",
      "Epoch: 10, train_accuray: 0.7372 test_accuracy: 0.6600\n",
      "Epoch: 11, train_accuray: 0.7350 test_accuracy: 0.6533\n",
      "Epoch: 12, train_accuray: 0.7372 test_accuracy: 0.6600\n",
      "Epoch: 13, train_accuray: 0.7372 test_accuracy: 0.6600\n",
      "Epoch: 14, train_accuray: 0.7372 test_accuracy: 0.6600\n",
      "Epoch: 15, train_accuray: 0.7372 test_accuracy: 0.6600\n",
      "Epoch: 16, train_accuray: 0.7372 test_accuracy: 0.6600\n",
      "Epoch: 17, train_accuray: 0.7372 test_accuracy: 0.6600\n",
      "Epoch: 18, train_accuray: 0.7394 test_accuracy: 0.6600\n",
      "Epoch: 19, train_accuray: 0.7372 test_accuracy: 0.6600\n",
      "Epoch: 20, train_accuray: 0.7372 test_accuracy: 0.6600\n",
      "Epoch: 21, train_accuray: 0.7372 test_accuracy: 0.6600\n",
      "Epoch: 22, train_accuray: 0.7394 test_accuracy: 0.6600\n",
      "Epoch: 23, train_accuray: 0.7394 test_accuracy: 0.6600\n",
      "Epoch: 24, train_accuray: 0.7394 test_accuracy: 0.6600\n",
      "Epoch: 25, train_accuray: 0.7394 test_accuracy: 0.6600\n",
      "Epoch: 26, train_accuray: 0.7372 test_accuracy: 0.6600\n",
      "Epoch: 27, train_accuray: 0.7394 test_accuracy: 0.6600\n",
      "Epoch: 28, train_accuray: 0.7394 test_accuracy: 0.6600\n",
      "Epoch: 29, train_accuray: 0.7394 test_accuracy: 0.6600\n",
      "Epoch: 30, train_accuray: 0.7394 test_accuracy: 0.6600\n",
      "Epoch: 31, train_accuray: 0.7394 test_accuracy: 0.6600\n",
      "Epoch: 32, train_accuray: 0.7394 test_accuracy: 0.6600\n",
      "Epoch: 33, train_accuray: 0.7394 test_accuracy: 0.6600\n",
      "Epoch: 34, train_accuray: 0.7394 test_accuracy: 0.6600\n",
      "Epoch: 35, train_accuray: 0.7394 test_accuracy: 0.6600\n",
      "Epoch: 36, train_accuray: 0.7394 test_accuracy: 0.6600\n",
      "Epoch: 37, train_accuray: 0.7394 test_accuracy: 0.6600\n",
      "Epoch: 38, train_accuray: 0.7394 test_accuracy: 0.6600\n",
      "Epoch: 39, train_accuray: 0.7394 test_accuracy: 0.6600\n",
      "Epoch: 40, train_accuray: 0.7394 test_accuracy: 0.6600\n",
      "Epoch: 41, train_accuray: 0.7394 test_accuracy: 0.6600\n",
      "Epoch: 42, train_accuray: 0.7394 test_accuracy: 0.6600\n",
      "Epoch: 43, train_accuray: 0.7394 test_accuracy: 0.6600\n",
      "Epoch: 44, train_accuray: 0.7394 test_accuracy: 0.6600\n",
      "Epoch: 45, train_accuray: 0.7394 test_accuracy: 0.6600\n",
      "Epoch: 46, train_accuray: 0.7394 test_accuracy: 0.6600\n",
      "Epoch: 47, train_accuray: 0.7394 test_accuracy: 0.6600\n",
      "Epoch: 48, train_accuray: 0.7394 test_accuracy: 0.6600\n",
      "Epoch: 49, train_accuray: 0.7394 test_accuracy: 0.6600\n",
      "Epoch: 50, train_accuray: 0.7394 test_accuracy: 0.6600\n",
      "Epoch: 51, train_accuray: 0.7394 test_accuracy: 0.6600\n",
      "Epoch: 52, train_accuray: 0.7394 test_accuracy: 0.6600\n",
      "Epoch: 53, train_accuray: 0.7461 test_accuracy: 0.6600\n",
      "Epoch: 54, train_accuray: 0.7394 test_accuracy: 0.6600\n",
      "Epoch: 55, train_accuray: 0.7394 test_accuracy: 0.6600\n",
      "Epoch: 56, train_accuray: 0.7394 test_accuracy: 0.6600\n",
      "Epoch: 57, train_accuray: 0.7394 test_accuracy: 0.6600\n",
      "Epoch: 58, train_accuray: 0.7416 test_accuracy: 0.6600\n",
      "Epoch: 59, train_accuray: 0.7394 test_accuracy: 0.6600\n",
      "Epoch: 60, train_accuray: 0.7416 test_accuracy: 0.6600\n",
      "Epoch: 61, train_accuray: 0.7416 test_accuracy: 0.6600\n",
      "Epoch: 62, train_accuray: 0.7416 test_accuracy: 0.6600\n",
      "Epoch: 63, train_accuray: 0.7416 test_accuracy: 0.6600\n",
      "Epoch: 64, train_accuray: 0.7416 test_accuracy: 0.6600\n",
      "Epoch: 65, train_accuray: 0.7439 test_accuracy: 0.6600\n",
      "Epoch: 66, train_accuray: 0.7416 test_accuracy: 0.6600\n",
      "Epoch: 67, train_accuray: 0.7416 test_accuracy: 0.6600\n",
      "Epoch: 68, train_accuray: 0.7439 test_accuracy: 0.6600\n",
      "Epoch: 69, train_accuray: 0.7439 test_accuracy: 0.6600\n",
      "Epoch: 70, train_accuray: 0.7439 test_accuracy: 0.6600\n",
      "Epoch: 71, train_accuray: 0.7439 test_accuracy: 0.6600\n",
      "Epoch: 72, train_accuray: 0.7439 test_accuracy: 0.6600\n",
      "Epoch: 73, train_accuray: 0.7439 test_accuracy: 0.6600\n",
      "Epoch: 74, train_accuray: 0.7439 test_accuracy: 0.6600\n",
      "Epoch: 75, train_accuray: 0.7439 test_accuracy: 0.6600\n",
      "Epoch: 76, train_accuray: 0.7416 test_accuracy: 0.6600\n",
      "Epoch: 77, train_accuray: 0.7439 test_accuracy: 0.6600\n",
      "Epoch: 78, train_accuray: 0.7439 test_accuracy: 0.6600\n",
      "Epoch: 79, train_accuray: 0.7439 test_accuracy: 0.6600\n",
      "Epoch: 80, train_accuray: 0.7439 test_accuracy: 0.6600\n",
      "Epoch: 81, train_accuray: 0.7439 test_accuracy: 0.6600\n",
      "Epoch: 82, train_accuray: 0.7439 test_accuracy: 0.6600\n",
      "Epoch: 83, train_accuray: 0.7439 test_accuracy: 0.6600\n",
      "Epoch: 84, train_accuray: 0.7439 test_accuracy: 0.6600\n",
      "Epoch: 85, train_accuray: 0.7439 test_accuracy: 0.6600\n",
      "Epoch: 86, train_accuray: 0.7439 test_accuracy: 0.6600\n",
      "Epoch: 87, train_accuray: 0.7439 test_accuracy: 0.6600\n",
      "Epoch: 88, train_accuray: 0.7439 test_accuracy: 0.6600\n",
      "Epoch: 89, train_accuray: 0.7461 test_accuracy: 0.6533\n",
      "Epoch: 90, train_accuray: 0.7439 test_accuracy: 0.6600\n",
      "Epoch: 91, train_accuray: 0.7439 test_accuracy: 0.6600\n",
      "Epoch: 92, train_accuray: 0.7439 test_accuracy: 0.6600\n",
      "Epoch: 93, train_accuray: 0.7439 test_accuracy: 0.6600\n",
      "Epoch: 94, train_accuray: 0.7439 test_accuracy: 0.6600\n",
      "Epoch: 95, train_accuray: 0.7439 test_accuracy: 0.6600\n",
      "Epoch: 96, train_accuray: 0.7483 test_accuracy: 0.6533\n",
      "Epoch: 97, train_accuray: 0.7506 test_accuracy: 0.6533\n",
      "Epoch: 98, train_accuray: 0.7528 test_accuracy: 0.6533\n",
      "Epoch: 99, train_accuray: 0.7439 test_accuracy: 0.6600\n",
      "Epoch: 100, train_accuray: 0.7528 test_accuracy: 0.6533\n",
      "Epoch: 101, train_accuray: 0.7528 test_accuracy: 0.6533\n",
      "Epoch: 102, train_accuray: 0.7528 test_accuracy: 0.6533\n",
      "Epoch: 103, train_accuray: 0.7528 test_accuracy: 0.6533\n",
      "Epoch: 104, train_accuray: 0.7483 test_accuracy: 0.6533\n",
      "Epoch: 105, train_accuray: 0.7528 test_accuracy: 0.6533\n",
      "Epoch: 106, train_accuray: 0.7483 test_accuracy: 0.6533\n",
      "Epoch: 107, train_accuray: 0.7461 test_accuracy: 0.6600\n",
      "Epoch: 108, train_accuray: 0.7528 test_accuracy: 0.6533\n",
      "Epoch: 109, train_accuray: 0.7506 test_accuracy: 0.6533\n",
      "Epoch: 110, train_accuray: 0.7528 test_accuracy: 0.6533\n",
      "Epoch: 111, train_accuray: 0.7483 test_accuracy: 0.6533\n",
      "Epoch: 112, train_accuray: 0.7506 test_accuracy: 0.6533\n",
      "Epoch: 113, train_accuray: 0.7506 test_accuracy: 0.6533\n",
      "Epoch: 114, train_accuray: 0.7550 test_accuracy: 0.6533\n",
      "Epoch: 115, train_accuray: 0.7506 test_accuracy: 0.6533\n",
      "Epoch: 116, train_accuray: 0.7506 test_accuracy: 0.6533\n",
      "Epoch: 117, train_accuray: 0.7550 test_accuracy: 0.6533\n",
      "Epoch: 118, train_accuray: 0.7550 test_accuracy: 0.6533\n",
      "Epoch: 119, train_accuray: 0.7550 test_accuracy: 0.6533\n",
      "Epoch: 120, train_accuray: 0.7506 test_accuracy: 0.6533\n",
      "Epoch: 121, train_accuray: 0.7550 test_accuracy: 0.6533\n",
      "Epoch: 122, train_accuray: 0.7550 test_accuracy: 0.6533\n",
      "Epoch: 123, train_accuray: 0.7550 test_accuracy: 0.6533\n",
      "Epoch: 124, train_accuray: 0.7506 test_accuracy: 0.6533\n",
      "Epoch: 125, train_accuray: 0.7550 test_accuracy: 0.6533\n",
      "Epoch: 126, train_accuray: 0.7506 test_accuracy: 0.6533\n",
      "Epoch: 127, train_accuray: 0.7550 test_accuracy: 0.6533\n",
      "Epoch: 128, train_accuray: 0.7550 test_accuracy: 0.6533\n",
      "Epoch: 129, train_accuray: 0.7528 test_accuracy: 0.6533\n",
      "Epoch: 130, train_accuray: 0.7550 test_accuracy: 0.6533\n",
      "Epoch: 131, train_accuray: 0.7550 test_accuracy: 0.6533\n",
      "Epoch: 132, train_accuray: 0.7550 test_accuracy: 0.6533\n",
      "Epoch: 133, train_accuray: 0.7550 test_accuracy: 0.6533\n",
      "Epoch: 134, train_accuray: 0.7550 test_accuracy: 0.6533\n",
      "Epoch: 135, train_accuray: 0.7528 test_accuracy: 0.6533\n",
      "Epoch: 136, train_accuray: 0.7550 test_accuracy: 0.6533\n",
      "Epoch: 137, train_accuray: 0.7528 test_accuracy: 0.6533\n",
      "Epoch: 138, train_accuray: 0.7528 test_accuracy: 0.6533\n",
      "Epoch: 139, train_accuray: 0.7528 test_accuracy: 0.6533\n",
      "Epoch: 140, train_accuray: 0.7550 test_accuracy: 0.6533\n",
      "Epoch: 141, train_accuray: 0.7550 test_accuracy: 0.6533\n",
      "Epoch: 142, train_accuray: 0.7528 test_accuracy: 0.6533\n",
      "Epoch: 143, train_accuray: 0.7528 test_accuracy: 0.6533\n",
      "Epoch: 144, train_accuray: 0.7528 test_accuracy: 0.6533\n",
      "Epoch: 145, train_accuray: 0.7528 test_accuracy: 0.6533\n",
      "Epoch: 146, train_accuray: 0.7550 test_accuracy: 0.6533\n",
      "Epoch: 147, train_accuray: 0.7528 test_accuracy: 0.6533\n",
      "Epoch: 148, train_accuray: 0.7550 test_accuracy: 0.6533\n",
      "Epoch: 149, train_accuray: 0.7528 test_accuracy: 0.6533\n"
     ]
    },
    {
     "name": "stdout",
     "output_type": "stream",
     "text": [
      "Epoch: 150, train_accuray: 0.7572 test_accuracy: 0.6533\n",
      "Epoch: 151, train_accuray: 0.7528 test_accuracy: 0.6533\n",
      "Epoch: 152, train_accuray: 0.7528 test_accuracy: 0.6533\n",
      "Epoch: 153, train_accuray: 0.7528 test_accuracy: 0.6533\n",
      "Epoch: 154, train_accuray: 0.7528 test_accuracy: 0.6533\n",
      "Epoch: 155, train_accuray: 0.7572 test_accuracy: 0.6533\n",
      "Epoch: 156, train_accuray: 0.7550 test_accuracy: 0.6533\n",
      "Epoch: 157, train_accuray: 0.7528 test_accuracy: 0.6533\n",
      "Epoch: 158, train_accuray: 0.7572 test_accuracy: 0.6533\n",
      "Epoch: 159, train_accuray: 0.7528 test_accuracy: 0.6533\n",
      "Epoch: 160, train_accuray: 0.7572 test_accuracy: 0.6533\n",
      "Epoch: 161, train_accuray: 0.7506 test_accuracy: 0.6533\n",
      "Epoch: 162, train_accuray: 0.7550 test_accuracy: 0.6533\n",
      "Epoch: 163, train_accuray: 0.7550 test_accuracy: 0.6533\n",
      "Epoch: 164, train_accuray: 0.7550 test_accuracy: 0.6533\n",
      "Epoch: 165, train_accuray: 0.7550 test_accuracy: 0.6533\n",
      "Epoch: 166, train_accuray: 0.7506 test_accuracy: 0.6533\n",
      "Epoch: 167, train_accuray: 0.7572 test_accuracy: 0.6533\n",
      "Epoch: 168, train_accuray: 0.7550 test_accuracy: 0.6533\n",
      "Epoch: 169, train_accuray: 0.7572 test_accuracy: 0.6533\n",
      "Epoch: 170, train_accuray: 0.7572 test_accuracy: 0.6533\n",
      "Epoch: 171, train_accuray: 0.7572 test_accuracy: 0.6533\n",
      "Epoch: 172, train_accuray: 0.7572 test_accuracy: 0.6533\n",
      "Epoch: 173, train_accuray: 0.7572 test_accuracy: 0.6533\n",
      "Epoch: 174, train_accuray: 0.7572 test_accuracy: 0.6533\n",
      "Epoch: 175, train_accuray: 0.7572 test_accuracy: 0.6533\n",
      "Epoch: 176, train_accuray: 0.7572 test_accuracy: 0.6533\n",
      "Epoch: 177, train_accuray: 0.7572 test_accuracy: 0.6533\n",
      "Epoch: 178, train_accuray: 0.7572 test_accuracy: 0.6533\n",
      "Epoch: 179, train_accuray: 0.7572 test_accuracy: 0.6533\n",
      "Epoch: 180, train_accuray: 0.7572 test_accuracy: 0.6533\n",
      "Epoch: 181, train_accuray: 0.7572 test_accuracy: 0.6533\n",
      "Epoch: 182, train_accuray: 0.7572 test_accuracy: 0.6533\n",
      "Epoch: 183, train_accuray: 0.7572 test_accuracy: 0.6533\n",
      "Epoch: 184, train_accuray: 0.7572 test_accuracy: 0.6533\n",
      "Epoch: 185, train_accuray: 0.7572 test_accuracy: 0.6533\n",
      "Epoch: 186, train_accuray: 0.7595 test_accuracy: 0.6533\n",
      "Epoch: 187, train_accuray: 0.7572 test_accuracy: 0.6533\n",
      "Epoch: 188, train_accuray: 0.7572 test_accuracy: 0.6533\n",
      "Epoch: 189, train_accuray: 0.7595 test_accuracy: 0.6533\n",
      "Epoch: 190, train_accuray: 0.7572 test_accuracy: 0.6533\n",
      "Epoch: 191, train_accuray: 0.7572 test_accuracy: 0.6533\n",
      "Epoch: 192, train_accuray: 0.7572 test_accuracy: 0.6533\n",
      "Epoch: 193, train_accuray: 0.7572 test_accuracy: 0.6533\n",
      "Epoch: 194, train_accuray: 0.7572 test_accuracy: 0.6533\n",
      "Epoch: 195, train_accuray: 0.7572 test_accuracy: 0.6533\n",
      "Epoch: 196, train_accuray: 0.7595 test_accuracy: 0.6533\n",
      "Epoch: 197, train_accuray: 0.7572 test_accuracy: 0.6533\n",
      "Epoch: 198, train_accuray: 0.7550 test_accuracy: 0.6533\n",
      "Epoch: 199, train_accuray: 0.7595 test_accuracy: 0.6533\n",
      "\n",
      "Model Training Time : --- 17.69205927848816 seconds ---\n"
     ]
    }
   ],
   "source": [
    "train_accuracy_list=[]\n",
    "test_accuracy_list=[]\n",
    "start_time = time.time()\n",
    "final_loss_list=[]\n",
    "final_loss_avg_list=[]\n",
    "eval_loss_list=[]\n",
    "list1=[]\n",
    "list2=[]\n",
    "sup_loss_list=[]\n",
    "unsup_loss_list=[]\n",
    "num_epochs=200\n",
    "output_losses=[]\n",
    "model_list=[]\n",
    "outputs=[]\n",
    "for epoch in range(num_epochs):\n",
    "    for i,batch in enumerate(unsupervised_train_loader):\n",
    "        unsup_batch=[t for t in batch]\n",
    "        sup_batch=[t for t in next(supervised_train_loader)]\n",
    "        optimizer.zero_grad()\n",
    "        weight_factor=1\n",
    "        sup_loss,unsup_loss,final_loss=get_loss(model,sup_batch,unsup_batch,sup_criterion,unsup_criterion,weight_factor)\n",
    "        list1.append(sup_loss.item())\n",
    "        list2.append(unsup_loss.item())\n",
    "        final_loss_list.append(final_loss.item())\n",
    "        final_loss.backward()\n",
    "        optimizer.step()\n",
    "    sup_loss_list.append(sum(list1) / len(list1))\n",
    "    unsup_loss_list.append(sum(list2) / len(list2))\n",
    "    list1=[]\n",
    "    if epoch % 1 == 0:\n",
    "        train_inputs=supervised_xtrain_tensor\n",
    "        train_true=supervised_ytrain_tensor\n",
    "        train_true=train_true.reshape(-1)\n",
    "        train_outputs=model(train_inputs)\n",
    "        train_accuracy=get_accuracy(train_true,train_outputs) \n",
    "        train_accuracy_list.append(train_accuracy)        \n",
    "        test_inputs=eval_xtest_tensor\n",
    "        test_true=eval_ytest_tensor\n",
    "        test_true=test_true.reshape(-1)        \n",
    "        eval_test_outputs=model(eval_xtest_tensor)\n",
    "        outputs.append(eval_test_outputs)\n",
    "        eval_loss=sup_criterion(eval_test_outputs,test_true)  \n",
    "        #print(\"Val loss: {:.4f}\".format(eval_loss.item()))\n",
    "        checkpoint = {'model': NNClassifier(input_size,output_size),\n",
    "              'state_dict': model.state_dict(),\n",
    "              'optimizer' : optimizer.state_dict()}\n",
    "        torch.save(checkpoint, 'checkpoint.pth')\n",
    "        model_list.append(load_checkpoint('checkpoint.pth'))        \n",
    "        test_accuracy=get_accuracy(test_true,eval_test_outputs) \n",
    "        test_accuracy_list.append(test_accuracy)\n",
    "        #print(\"Epoch: {}, val_loss: {:.4f} Accuracy: {:.4f}\".format(epoch,eval_loss.item(),accuracy))        \n",
    "        print(\"Epoch: {}, train_accuray: {:.4f} test_accuracy: {:.4f}\".format(epoch,train_accuracy,test_accuracy))\n",
    "        eval_loss_list.append(eval_loss.item())        \n",
    "print(\"\\nModel Training Time : --- %s seconds ---\" % (time.time() - start_time))        "
   ]
  },
  {
   "cell_type": "code",
   "execution_count": 50,
   "metadata": {},
   "outputs": [
    {
     "data": {
      "image/png": "[encoded data removed]",
      "text/plain": [
       "<Figure size 720x720 with 1 Axes>"
      ]
     },
     "metadata": {},
     "output_type": "display_data"
    }
   ],
   "source": [
    "test_epoch=[x for x in range(0,len(eval_loss_list),1)]\n",
    "plt.figure(figsize=(10,10))\n",
    "plt.title(\"Validation Loss plot\",size=20)\n",
    "plt.xlabel(\"Number of Iterations\",size=18)\n",
    "plt.ylabel(\"Negative log likelihood loss\",size=18)\n",
    "plt.xticks(size=15)\n",
    "plt.yticks(size=15)\n",
    "plt.scatter(test_epoch,eval_loss_list,color='r',s=10,marker='o')\n",
    "plt.plot(labels='loss')\n",
    "plt.show()"
   ]
  },
  {
   "cell_type": "code",
   "execution_count": 51,
   "metadata": {},
   "outputs": [
    {
     "name": "stdout",
     "output_type": "stream",
     "text": [
      "Maximum Training Accuracy: 0.734966592427617\n"
     ]
    },
    {
     "data": {
      "image/png": "[encoded data removed]",
      "text/plain": [
       "<Figure size 720x720 with 1 Axes>"
      ]
     },
     "metadata": {},
     "output_type": "display_data"
    }
   ],
   "source": [
    "train_accuracy_epoch=[x for x in range(0,len(train_accuracy_list),1)]\n",
    "plt.figure(figsize=(10,10))\n",
    "plt.title(\"Training Accuracy plot\",size=20)\n",
    "plt.xlabel(\"Number of Iterations\",size=18)\n",
    "plt.ylabel(\"Training Accuracy\",size=18)\n",
    "plt.xticks(size=15)\n",
    "plt.yticks(size=15)\n",
    "print(\"Maximum Training Accuracy:\",max(train_accuracy_list))\n",
    "plt.plot(train_accuracy_epoch,train_accuracy_list)\n",
    "plt.show()"
   ]
  },
  {
   "cell_type": "code",
   "execution_count": 52,
   "metadata": {},
   "outputs": [
    {
     "name": "stdout",
     "output_type": "stream",
     "text": [
      "Maximum Validation Accuracy: 0.66\n"
     ]
    },
    {
     "data": {
      "image/png": "[encoded data removed]",
      "text/plain": [
       "<Figure size 720x720 with 1 Axes>"
      ]
     },
     "metadata": {},
     "output_type": "display_data"
    }
   ],
   "source": [
    "test_accuracy_epoch=[x for x in range(0,len(test_accuracy_list),1)]\n",
    "plt.figure(figsize=(10,10))\n",
    "plt.title(\"Validation Accuracy plot\",size=20)\n",
    "plt.xlabel(\"Number of Iterations\",size=18)\n",
    "plt.ylabel(\"Validation Accuracy\",size=18)\n",
    "plt.xticks(size=15)\n",
    "plt.yticks(size=15)\n",
    "print(\"Maximum Validation Accuracy:\",max(test_accuracy_list))\n",
    "plt.plot(test_accuracy_epoch,test_accuracy_list)\n",
    "plt.show()"
   ]
  },
  {
   "cell_type": "code",
   "execution_count": 53,
   "metadata": {},
   "outputs": [
    {
     "name": "stdout",
     "output_type": "stream",
     "text": [
      "Best model indexes for training are: [197, 198, 199]\n",
      "Best model indexes for validation are: [0, 1, 2, 3, 4, 5, 6, 7, 8, 9, 10, 11, 12, 13, 14, 15, 16, 17, 18, 19, 20, 21, 22, 23, 24, 25, 26, 27, 28, 29, 30, 31, 32, 33, 34, 35, 36, 37, 38, 39, 40, 41, 42, 43, 44, 45, 46, 47, 48, 49, 50, 51]\n"
     ]
    }
   ],
   "source": [
    "def best_model_trained_index(seq,item):\n",
    "    start_at = -1\n",
    "    locs = []\n",
    "    while True:\n",
    "        try:\n",
    "            loc = seq.index(item,start_at+1)\n",
    "        except ValueError:\n",
    "            break\n",
    "        else:\n",
    "            locs.append(loc)\n",
    "            start_at = loc\n",
    "    return locs\n",
    "print(\"Best model indexes for training are:\",best_model_trained_index(train_accuracy_list,max(train_accuracy_list)))\n",
    "print(\"Best model indexes for validation are:\",best_model_trained_index(test_accuracy_list,max(test_accuracy_list)))\n",
    "#model_index_list=best_model_trained_index(accuracy_list,max(accuracy_list))\n",
    "#best_model_index=model_index_list[0]"
   ]
  },
  {
   "cell_type": "code",
   "execution_count": 54,
   "metadata": {},
   "outputs": [
    {
     "name": "stdout",
     "output_type": "stream",
     "text": [
      "Top training accuracies from model are: [0.7282850779510023, 0.7305122494432071, 0.732739420935412, 0.734966592427617]\n",
      "\n",
      "\n",
      "Top validation accuracies from model are: [0.6533333333333333, 0.66]\n"
     ]
    }
   ],
   "source": [
    "train_acc=list(set(train_accuracy_list))\n",
    "top_idx_train = np.argsort(train_acc)[-4:]\n",
    "top_values_train = [train_acc[i] for i in top_idx_train]\n",
    "test_acc=list(set(test_accuracy_list))\n",
    "top_idx_test = np.argsort(test_acc)[-4:]\n",
    "top_values_test = [test_acc[i] for i in top_idx_test]\n",
    "print(\"Top training accuracies from model are:\",top_values_train)\n",
    "print(\"\\n\")\n",
    "print(\"Top validation accuracies from model are:\",top_values_test)"
   ]
  },
  {
   "cell_type": "code",
   "execution_count": 55,
   "metadata": {},
   "outputs": [
    {
     "name": "stdout",
     "output_type": "stream",
     "text": [
      "Training: []\n",
      "Validation: []\n"
     ]
    }
   ],
   "source": [
    "print(\"Training:\",best_model_trained_index(train_accuracy_list,0.7416481069042317))\n",
    "print(\"Validation:\",best_model_trained_index(test_accuracy_list,0.74))"
   ]
  },
  {
   "cell_type": "code",
   "execution_count": 59,
   "metadata": {},
   "outputs": [
    {
     "name": "stdout",
     "output_type": "stream",
     "text": [
      "Predicted Results of Training:\n",
      "\n",
      "Accuracy of the model is:0.3185\n",
      "\n",
      "\n",
      "\n",
      "Classification report:\n",
      "              precision    recall  f1-score   support\n",
      "\n",
      "         0.0       0.32      1.00      0.48       143\n",
      "         1.0       0.00      0.00      0.00       306\n",
      "\n",
      "    accuracy                           0.32       449\n",
      "   macro avg       0.16      0.50      0.24       449\n",
      "weighted avg       0.10      0.32      0.15       449\n",
      "\n",
      "Confusion matrix:\n",
      "\n",
      "\n",
      "[[143   0]\n",
      " [306   0]]\n",
      "\n",
      "\n",
      "\n",
      "The average weighted f1 score of the model is: 0.1539\n",
      "\n",
      "The average micro f1 score of the model is: 0.3185\n",
      "\n",
      "The average macro f1 score of the model is: 0.2416\n"
     ]
    },
    {
     "name": "stderr",
     "output_type": "stream",
     "text": [
      "/usr/local/lib/python3.7/site-packages/torch/nn/functional.py:1350: UserWarning: nn.functional.sigmoid is deprecated. Use torch.sigmoid instead.\n",
      "  warnings.warn(\"nn.functional.sigmoid is deprecated. Use torch.sigmoid instead.\")\n",
      "/usr/local/lib/python3.7/site-packages/sklearn/metrics/classification.py:1437: UndefinedMetricWarning: Precision and F-score are ill-defined and being set to 0.0 in labels with no predicted samples.\n",
      "  'precision', 'predicted', average, warn_for)\n",
      "/usr/local/lib/python3.7/site-packages/sklearn/metrics/classification.py:1437: UndefinedMetricWarning: F-score is ill-defined and being set to 0.0 in labels with no predicted samples.\n",
      "  'precision', 'predicted', average, warn_for)\n"
     ]
    }
   ],
   "source": [
    "train_predictions=model_list[171](supervised_xtrain_tensor)\n",
    "actual=supervised_ytrain_tensor\n",
    "actual=actual.reshape(-1)\n",
    "actual=actual.numpy()\n",
    "train_pred_list=[]\n",
    "for i in range(len(train_predictions)):\n",
    "    p=train_predictions[i].reshape(1,-1)\n",
    "    values,indices=torch.max(p,dim=1)\n",
    "    train_pred_list.append(indices.item())\n",
    "print(\"Predicted Results of Training:\")\n",
    "print(\"\\nAccuracy of the model is:{:.4f}\".format(accuracy_score(actual,train_pred_list)))\n",
    "print(\"\\n\")\n",
    "print(\"\\nClassification report:\")\n",
    "print(classification_report(actual,train_pred_list))\n",
    "print(\"Confusion matrix:\")\n",
    "labels=['negative','positive','neutral','no_aspect']\n",
    "cm=confusion_matrix(actual,train_pred_list)\n",
    "print(\"\\n\")\n",
    "print(cm)\n",
    "print(\"\\n\")\n",
    "from sklearn.metrics.classification import f1_score\n",
    "print(\"\\nThe average weighted f1 score of the model is: {:.4f}\".format(f1_score(actual,train_pred_list,average='weighted')))\n",
    "print(\"\\nThe average micro f1 score of the model is: {:.4f}\".format(f1_score(actual,train_pred_list,average='micro')))\n",
    "print(\"\\nThe average macro f1 score of the model is: {:.4f}\".format(f1_score(actual,train_pred_list,average='macro')))\n"
   ]
  },
  {
   "cell_type": "code",
   "execution_count": 61,
   "metadata": {},
   "outputs": [
    {
     "data": {
      "text/plain": [
       "1"
      ]
     },
     "execution_count": 61,
     "metadata": {},
     "output_type": "execute_result"
    }
   ],
   "source": [
    "eval_test_y[25]"
   ]
  },
  {
   "cell_type": "code",
   "execution_count": 62,
   "metadata": {},
   "outputs": [
    {
     "name": "stdout",
     "output_type": "stream",
     "text": [
      "Review:\n",
      " i am reviewing this on behalf of my boyfriend who is the lucky user of this electric shaver  he still insists that razor a blade gives a closer shave and i agree  the skin is a lot smoother and clearer but this is great for the weekends when he wants to get rid of the stubble and not scratch my face off  this enables him to get a smooth feeling on the skin without stripping and irritating it  and no creams and products are needed  the 3 rotating heads really adjust to the contour of the face and they snap open for easy clean up with water  i ve seen him use it and it s a cinch  fast  easy and no mess overall this is a great product  it works well and the face feels and looks good afterwards and it takes very little time to use  better than shaving when it comes to comfort but my man still prefers the razor when he has to shave for work  this makes a great holiday gift  a gadget that people wouldn t run out and buy for themselves necessarily and fun to have as an option in the morning   kasia s \n",
      "\n",
      "\n",
      "Sentiment:\n",
      " 1\n"
     ]
    }
   ],
   "source": [
    "print('Review:\\n',eval_test_x_reviews[25])\n",
    "print('\\n')\n",
    "print('Sentiment:\\n',eval_test_y[25])"
   ]
  },
  {
   "cell_type": "code",
   "execution_count": 63,
   "metadata": {},
   "outputs": [
    {
     "name": "stdout",
     "output_type": "stream",
     "text": [
      "Predicted Results of Validation:\n",
      "\n",
      "Accuracy of the model is:0.3400\n",
      "\n",
      "\n",
      "Number of negative aspects: 150\n",
      "Number of positive aspects: 0\n",
      "Number of neutral aspects: 0\n",
      "Number of no prescence aspects: 0\n",
      "\n",
      "Classification report:\n",
      "              precision    recall  f1-score   support\n",
      "\n",
      "         0.0       0.34      1.00      0.51        51\n",
      "         1.0       0.00      0.00      0.00        99\n",
      "\n",
      "    accuracy                           0.34       150\n",
      "   macro avg       0.17      0.50      0.25       150\n",
      "weighted avg       0.12      0.34      0.17       150\n",
      "\n",
      "Confusion matrix:\n",
      "\n",
      "\n",
      "[[51  0]\n",
      " [99  0]]\n",
      "\n",
      "\n",
      "The average f1 score of the model is: 0.1725\n"
     ]
    },
    {
     "name": "stderr",
     "output_type": "stream",
     "text": [
      "/usr/local/lib/python3.7/site-packages/torch/nn/functional.py:1350: UserWarning: nn.functional.sigmoid is deprecated. Use torch.sigmoid instead.\n",
      "  warnings.warn(\"nn.functional.sigmoid is deprecated. Use torch.sigmoid instead.\")\n",
      "/usr/local/lib/python3.7/site-packages/sklearn/metrics/classification.py:1437: UndefinedMetricWarning: Precision and F-score are ill-defined and being set to 0.0 in labels with no predicted samples.\n",
      "  'precision', 'predicted', average, warn_for)\n",
      "/usr/local/lib/python3.7/site-packages/sklearn/metrics/classification.py:1437: UndefinedMetricWarning: F-score is ill-defined and being set to 0.0 in labels with no predicted samples.\n",
      "  'precision', 'predicted', average, warn_for)\n"
     ]
    }
   ],
   "source": [
    "test_predictions=model_list[191](eval_xtest_tensor)\n",
    "actual=eval_ytest_tensor\n",
    "actual=actual.reshape(-1)\n",
    "actual=actual.numpy()\n",
    "pred_list=[]\n",
    "for i in range(len(test_predictions)):\n",
    "    p=test_predictions[i].reshape(1,-1)\n",
    "    values,indices=torch.max(p,dim=1)\n",
    "    pred_list.append(indices.item())\n",
    "print(\"Predicted Results of Validation:\")\n",
    "print(\"\\nAccuracy of the model is:{:.4f}\".format(accuracy_score(actual,pred_list)))\n",
    "print(\"\\n\")\n",
    "print(\"Number of negative aspects:\",pred_list.count(0))\n",
    "print(\"Number of positive aspects:\",pred_list.count(1))\n",
    "print(\"Number of neutral aspects:\",pred_list.count(2))\n",
    "print(\"Number of no prescence aspects:\",pred_list.count(3))\n",
    "print(\"\\nClassification report:\")\n",
    "print(classification_report(actual,pred_list))\n",
    "print(\"Confusion matrix:\")\n",
    "labels=['negative','positive','neutral','no_aspect']\n",
    "cm=confusion_matrix(actual,pred_list)\n",
    "print(\"\\n\")\n",
    "print(cm)\n",
    "print(\"\\n\")\n",
    "from sklearn.metrics.classification import f1_score\n",
    "print(\"The average f1 score of the model is: {:.4f}\".format(f1_score(actual,pred_list,average='weighted')))"
   ]
  }
 ],
 "metadata": {
  "kernelspec": {
   "display_name": "Python 3",
   "language": "python",
   "name": "python3"
  },
  "language_info": {
   "codemirror_mode": {
    "name": "ipython",
    "version": 3
   },
   "file_extension": ".py",
   "mimetype": "text/x-python",
   "name": "python",
   "nbconvert_exporter": "python",
   "pygments_lexer": "ipython3",
   "version": "3.7.3"
  }
 },
 "nbformat": 4,
 "nbformat_minor": 2
}
