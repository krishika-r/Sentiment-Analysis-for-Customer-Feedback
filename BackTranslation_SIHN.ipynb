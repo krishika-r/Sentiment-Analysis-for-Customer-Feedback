{
  "nbformat": 4,
  "nbformat_minor": 0,
  "metadata": {
    "colab": {
      "name": "BackTranslation_SIHN.ipynb",
      "provenance": []
    },
    "kernelspec": {
      "name": "python2",
      "display_name": "Python 2"
    },
    "accelerator": "GPU"
  },
  "cells": [
    {
      "cell_type": "code",
      "metadata": {
        "id": "XTpGaKpQfEyu",
        "colab_type": "code",
        "colab": {
          "base_uri": "https://localhost:8080/",
          "height": 53
        },
        "outputId": "f56cd368-56bc-482c-c3d3-d05246972520"
      },
      "source": [
        "pip install --user nltk"
      ],
      "execution_count": null,
      "outputs": [
        {
          "output_type": "stream",
          "text": [
            "Requirement already satisfied: nltk in /usr/local/lib/python2.7/dist-packages (3.2.5)\n",
            "Requirement already satisfied: six in /usr/local/lib/python2.7/dist-packages (from nltk) (1.12.0)\n"
          ],
          "name": "stdout"
        }
      ]
    },
    {
      "cell_type": "code",
      "metadata": {
        "id": "7TMAblxnfNjG",
        "colab_type": "code",
        "colab": {
          "base_uri": "https://localhost:8080/",
          "height": 53
        },
        "outputId": "6db3326f-3063-4dc4-93a9-ad7e1b1f02fc"
      },
      "source": [
        "!python -c \"import nltk; nltk.download('punkt')\""
      ],
      "execution_count": null,
      "outputs": [
        {
          "output_type": "stream",
          "text": [
            "[nltk_data] Downloading package punkt to /root/nltk_data...\n",
            "[nltk_data]   Unzipping tokenizers/punkt.zip.\n"
          ],
          "name": "stdout"
        }
      ]
    },
    {
      "cell_type": "code",
      "metadata": {
        "id": "oLQahrNrfiSh",
        "colab_type": "code",
        "colab": {
          "base_uri": "https://localhost:8080/",
          "height": 1000
        },
        "outputId": "79cdbfe9-bcc7-4ec1-ffc8-85232585bd54"
      },
      "source": [
        "pip install --user tensor2tensor==1.14.0"
      ],
      "execution_count": null,
      "outputs": [
        {
          "output_type": "stream",
          "text": [
            "Collecting tensor2tensor==1.14.0\n",
            "\u001b[?25l  Downloading https://files.pythonhosted.org/packages/64/75/e8fab6e46fcfaf278998b9d0a182361eaa1a9b5a9a7ecb58a0796d9e5229/tensor2tensor-1.14.0-py2.py3-none-any.whl (1.6MB)\n",
            "\u001b[K     |████████████████████████████████| 1.6MB 2.8MB/s \n",
            "\u001b[?25hRequirement already satisfied: mesh-tensorflow in /usr/local/lib/python2.7/dist-packages (from tensor2tensor==1.14.0) (0.0.5)\n",
            "Requirement already satisfied: Pillow in /usr/local/lib/python2.7/dist-packages (from tensor2tensor==1.14.0) (4.3.0)\n",
            "Collecting kfac\n",
            "\u001b[?25l  Downloading https://files.pythonhosted.org/packages/01/f0/4a7758f854a15b37d322827123ce58619d0f4270dd94f2dd30328f397339/kfac-0.2.0-py2.py3-none-any.whl (178kB)\n",
            "\u001b[K     |████████████████████████████████| 184kB 21.6MB/s \n",
            "\u001b[?25hRequirement already satisfied: gym in /usr/local/lib/python2.7/dist-packages (from tensor2tensor==1.14.0) (0.10.11)\n",
            "Requirement already satisfied: future in /usr/local/lib/python2.7/dist-packages (from tensor2tensor==1.14.0) (0.16.0)\n",
            "Requirement already satisfied: numpy in /usr/local/lib/python2.7/dist-packages (from tensor2tensor==1.14.0) (1.16.4)\n",
            "Requirement already satisfied: flask in /usr/local/lib/python2.7/dist-packages (from tensor2tensor==1.14.0) (1.1.1)\n",
            "Requirement already satisfied: google-api-python-client in /usr/local/lib/python2.7/dist-packages (from tensor2tensor==1.14.0) (1.7.9)\n",
            "Requirement already satisfied: tensorflow-probability in /usr/local/lib/python2.7/dist-packages (from tensor2tensor==1.14.0) (0.7.0)\n",
            "Requirement already satisfied: h5py in /usr/local/lib/python2.7/dist-packages (from tensor2tensor==1.14.0) (2.8.0)\n",
            "Requirement already satisfied: scipy in /usr/local/lib/python2.7/dist-packages (from tensor2tensor==1.14.0) (1.2.2)\n",
            "Collecting pypng\n",
            "\u001b[?25l  Downloading https://files.pythonhosted.org/packages/bc/fb/f719f1ac965e2101aa6ea6f54ef8b40f8fbb033f6ad07c017663467f5147/pypng-0.0.20.tar.gz (649kB)\n",
            "\u001b[K     |████████████████████████████████| 655kB 19.7MB/s \n",
            "\u001b[?25hRequirement already satisfied: oauth2client in /usr/local/lib/python2.7/dist-packages (from tensor2tensor==1.14.0) (4.1.3)\n",
            "Requirement already satisfied: requests in /usr/local/lib/python2.7/dist-packages (from tensor2tensor==1.14.0) (2.21.0)\n",
            "Requirement already satisfied: gunicorn in /usr/local/lib/python2.7/dist-packages (from tensor2tensor==1.14.0) (19.9.0)\n",
            "Collecting tensorflow-datasets\n",
            "\u001b[?25l  Downloading https://files.pythonhosted.org/packages/b8/dc/e64b81b61cb727afc650abc8caa096616aa252d0d873213f69ec24d181ce/tensorflow_datasets-1.3.2-py2-none-any.whl (3.0MB)\n",
            "\u001b[K     |████████████████████████████████| 3.0MB 20.4MB/s \n",
            "\u001b[?25hRequirement already satisfied: dopamine-rl in /usr/local/lib/python2.7/dist-packages (from tensor2tensor==1.14.0) (1.0.5)\n",
            "Requirement already satisfied: grpcio in /usr/local/lib/python2.7/dist-packages (from tensor2tensor==1.14.0) (1.15.0)\n",
            "Requirement already satisfied: sympy in /usr/local/lib/python2.7/dist-packages (from tensor2tensor==1.14.0) (1.1.1)\n",
            "Requirement already satisfied: six in /usr/local/lib/python2.7/dist-packages (from tensor2tensor==1.14.0) (1.12.0)\n",
            "Requirement already satisfied: bz2file in /usr/local/lib/python2.7/dist-packages (from tensor2tensor==1.14.0) (0.98)\n",
            "Requirement already satisfied: gin-config in /usr/local/lib/python2.7/dist-packages (from tensor2tensor==1.14.0) (0.2.0)\n",
            "Requirement already satisfied: tqdm in /usr/local/lib/python2.7/dist-packages (from tensor2tensor==1.14.0) (4.28.1)\n",
            "Requirement already satisfied: opencv-python in /usr/local/lib/python2.7/dist-packages (from tensor2tensor==1.14.0) (3.4.5.20)\n",
            "Requirement already satisfied: gevent in /usr/local/lib/python2.7/dist-packages (from tensor2tensor==1.14.0) (1.4.0)\n",
            "Collecting tensorflow-gan\n",
            "\u001b[?25l  Downloading https://files.pythonhosted.org/packages/0c/2e/62922111d7d50e1900e3030764743ea7735540ce103b3ab30fd5cd2d8a2b/tensorflow_gan-2.0.0-py2.py3-none-any.whl (365kB)\n",
            "\u001b[K     |████████████████████████████████| 368kB 49.7MB/s \n",
            "\u001b[?25hRequirement already satisfied: olefile in /usr/local/lib/python2.7/dist-packages (from Pillow->tensor2tensor==1.14.0) (0.46)\n",
            "Requirement already satisfied: pyglet>=1.2.0 in /usr/local/lib/python2.7/dist-packages (from gym->tensor2tensor==1.14.0) (1.4.1)\n",
            "Requirement already satisfied: click>=5.1 in /usr/local/lib/python2.7/dist-packages (from flask->tensor2tensor==1.14.0) (7.0)\n",
            "Requirement already satisfied: Werkzeug>=0.15 in /usr/local/lib/python2.7/dist-packages (from flask->tensor2tensor==1.14.0) (0.15.5)\n",
            "Requirement already satisfied: itsdangerous>=0.24 in /usr/local/lib/python2.7/dist-packages (from flask->tensor2tensor==1.14.0) (1.1.0)\n",
            "Requirement already satisfied: Jinja2>=2.10.1 in /usr/local/lib/python2.7/dist-packages (from flask->tensor2tensor==1.14.0) (2.10.1)\n",
            "Requirement already satisfied: google-auth-httplib2>=0.0.3 in /usr/local/lib/python2.7/dist-packages (from google-api-python-client->tensor2tensor==1.14.0) (0.0.3)\n",
            "Requirement already satisfied: google-auth>=1.4.1 in /usr/local/lib/python2.7/dist-packages (from google-api-python-client->tensor2tensor==1.14.0) (1.4.2)\n",
            "Requirement already satisfied: httplib2<1dev,>=0.9.2 in /usr/local/lib/python2.7/dist-packages (from google-api-python-client->tensor2tensor==1.14.0) (0.11.3)\n",
            "Requirement already satisfied: uritemplate<4dev,>=3.0.0 in /usr/local/lib/python2.7/dist-packages (from google-api-python-client->tensor2tensor==1.14.0) (3.0.0)\n",
            "Requirement already satisfied: cloudpickle>=0.6.1 in /usr/local/lib/python2.7/dist-packages (from tensorflow-probability->tensor2tensor==1.14.0) (0.6.1)\n",
            "Requirement already satisfied: decorator in /usr/local/lib/python2.7/dist-packages (from tensorflow-probability->tensor2tensor==1.14.0) (4.4.0)\n",
            "Requirement already satisfied: rsa>=3.1.4 in /usr/local/lib/python2.7/dist-packages (from oauth2client->tensor2tensor==1.14.0) (4.0)\n",
            "Requirement already satisfied: pyasn1>=0.1.7 in /usr/local/lib/python2.7/dist-packages (from oauth2client->tensor2tensor==1.14.0) (0.4.5)\n",
            "Requirement already satisfied: pyasn1-modules>=0.0.5 in /usr/local/lib/python2.7/dist-packages (from oauth2client->tensor2tensor==1.14.0) (0.2.5)\n",
            "Requirement already satisfied: urllib3<1.25,>=1.21.1 in /usr/local/lib/python2.7/dist-packages (from requests->tensor2tensor==1.14.0) (1.24.3)\n",
            "Requirement already satisfied: certifi>=2017.4.17 in /usr/local/lib/python2.7/dist-packages (from requests->tensor2tensor==1.14.0) (2019.6.16)\n",
            "Requirement already satisfied: chardet<3.1.0,>=3.0.2 in /usr/local/lib/python2.7/dist-packages (from requests->tensor2tensor==1.14.0) (3.0.4)\n",
            "Requirement already satisfied: idna<2.9,>=2.5 in /usr/local/lib/python2.7/dist-packages (from requests->tensor2tensor==1.14.0) (2.8)\n",
            "Requirement already satisfied: wrapt in /usr/local/lib/python2.7/dist-packages (from tensorflow-datasets->tensor2tensor==1.14.0) (1.11.2)\n",
            "Requirement already satisfied: futures; python_version < \"3\" in /usr/local/lib/python2.7/dist-packages (from tensorflow-datasets->tensor2tensor==1.14.0) (3.2.0)\n",
            "Requirement already satisfied: promise in /usr/local/lib/python2.7/dist-packages (from tensorflow-datasets->tensor2tensor==1.14.0) (2.2.1)\n",
            "Requirement already satisfied: dill in /usr/local/lib/python2.7/dist-packages (from tensorflow-datasets->tensor2tensor==1.14.0) (0.3.0)\n",
            "Requirement already satisfied: tensorflow-metadata in /usr/local/lib/python2.7/dist-packages (from tensorflow-datasets->tensor2tensor==1.14.0) (0.14.0)\n",
            "Requirement already satisfied: termcolor in /usr/local/lib/python2.7/dist-packages (from tensorflow-datasets->tensor2tensor==1.14.0) (1.1.0)\n",
            "Requirement already satisfied: functools32; python_version < \"3\" in /usr/local/lib/python2.7/dist-packages (from tensorflow-datasets->tensor2tensor==1.14.0) (3.2.3.post2)\n",
            "Requirement already satisfied: enum34; python_version < \"3.4\" in /usr/local/lib/python2.7/dist-packages (from tensorflow-datasets->tensor2tensor==1.14.0) (1.1.6)\n",
            "Requirement already satisfied: attrs in /usr/local/lib/python2.7/dist-packages (from tensorflow-datasets->tensor2tensor==1.14.0) (19.1.0)\n",
            "Requirement already satisfied: protobuf>=3.6.1 in /usr/local/lib/python2.7/dist-packages (from tensorflow-datasets->tensor2tensor==1.14.0) (3.7.1)\n",
            "Requirement already satisfied: absl-py in /usr/local/lib/python2.7/dist-packages (from tensorflow-datasets->tensor2tensor==1.14.0) (0.7.1)\n",
            "Requirement already satisfied: psutil; python_version < \"3.3\" in /usr/local/lib/python2.7/dist-packages (from tensorflow-datasets->tensor2tensor==1.14.0) (5.4.8)\n",
            "Requirement already satisfied: mpmath>=0.19 in /usr/local/lib/python2.7/dist-packages (from sympy->tensor2tensor==1.14.0) (1.1.0)\n",
            "Requirement already satisfied: greenlet>=0.4.14; platform_python_implementation == \"CPython\" in /usr/local/lib/python2.7/dist-packages (from gevent->tensor2tensor==1.14.0) (0.4.15)\n",
            "Requirement already satisfied: tensorflow-hub>=0.2 in /usr/local/lib/python2.7/dist-packages (from tensorflow-gan->tensor2tensor==1.14.0) (0.5.0)\n",
            "Requirement already satisfied: MarkupSafe>=0.23 in /usr/local/lib/python2.7/dist-packages (from Jinja2>=2.10.1->flask->tensor2tensor==1.14.0) (1.1.1)\n",
            "Requirement already satisfied: cachetools>=2.0.0 in /usr/local/lib/python2.7/dist-packages (from google-auth>=1.4.1->google-api-python-client->tensor2tensor==1.14.0) (3.1.1)\n",
            "Requirement already satisfied: typing>=3.6.4; python_version < \"3.5\" in /usr/local/lib/python2.7/dist-packages (from promise->tensorflow-datasets->tensor2tensor==1.14.0) (3.7.4)\n",
            "Requirement already satisfied: googleapis-common-protos in /usr/local/lib/python2.7/dist-packages (from tensorflow-metadata->tensorflow-datasets->tensor2tensor==1.14.0) (1.6.0)\n",
            "Requirement already satisfied: setuptools in /usr/local/lib/python2.7/dist-packages (from protobuf>=3.6.1->tensorflow-datasets->tensor2tensor==1.14.0) (42.0.2)\n",
            "Building wheels for collected packages: pypng\n",
            "  Building wheel for pypng (setup.py) ... \u001b[?25l\u001b[?25hdone\n",
            "  Created wheel for pypng: filename=pypng-0.0.20-cp27-none-any.whl size=67162 sha256=5eb910489963c0a88755348320ce0d9a83694e5dbeb01e9cf448ca06322c55c6\n",
            "  Stored in directory: /root/.cache/pip/wheels/41/6b/ef/0493b536b6d4722c2ae9486691b1d49b922b9877922beeabb3\n",
            "Successfully built pypng\n",
            "Installing collected packages: kfac, pypng, tensorflow-datasets, tensorflow-gan, tensor2tensor\n",
            "Successfully installed kfac-0.2.0 pypng-0.0.20 tensor2tensor-1.14.0 tensorflow-datasets-1.3.2 tensorflow-gan-2.0.0\n"
          ],
          "name": "stdout"
        }
      ]
    },
    {
      "cell_type": "code",
      "metadata": {
        "id": "xUrNRRNvfnOl",
        "colab_type": "code",
        "colab": {
          "base_uri": "https://localhost:8080/",
          "height": 449
        },
        "outputId": "c065ca8c-c5f4-47b1-a77d-d3fa3d3f972b"
      },
      "source": [
        "!bash download.sh"
      ],
      "execution_count": null,
      "outputs": [
        {
          "output_type": "stream",
          "text": [
            "--2020-01-08 16:55:45--  https://storage.googleapis.com/uda_model/text/back_trans_checkpoints.zip\n",
            "Resolving storage.googleapis.com (storage.googleapis.com)... 173.194.216.128, 2607:f8b0:400c:c07::80\n",
            "Connecting to storage.googleapis.com (storage.googleapis.com)|173.194.216.128|:443... connected.\n",
            "HTTP request sent, awaiting response... 200 OK\n",
            "Length: 4587552274 (4.3G) [application/zip]\n",
            "Saving to: ‘back_trans_checkpoints.zip’\n",
            "\n",
            "back_trans_checkpoi 100%[===================>]   4.27G  81.9MB/s    in 85s     \n",
            "\n",
            "2020-01-08 16:57:10 (51.5 MB/s) - ‘back_trans_checkpoints.zip’ saved [4587552274/4587552274]\n",
            "\n",
            "Archive:  back_trans_checkpoints.zip\n",
            "   creating: checkpoints/\n",
            "   creating: checkpoints/enfr/\n",
            "  inflating: checkpoints/enfr/model.ckpt-500000.index  \n",
            "  inflating: checkpoints/enfr/model.ckpt-500000.data-00001-of-00002  \n",
            "  inflating: checkpoints/enfr/model.ckpt-500000.meta  \n",
            "  inflating: checkpoints/enfr/model.ckpt-500000.data-00000-of-00002  \n",
            "  inflating: checkpoints/vocab.translate_enfr_wmt32k.32768.subwords  \n",
            "   creating: checkpoints/fren/\n",
            "  inflating: checkpoints/fren/model.ckpt-500000.index  \n",
            "  inflating: checkpoints/fren/model.ckpt-500000.data-00001-of-00002  \n",
            "  inflating: checkpoints/fren/model.ckpt-500000.meta  \n",
            "  inflating: checkpoints/fren/model.ckpt-500000.data-00000-of-00002  \n"
          ],
          "name": "stdout"
        }
      ]
    },
    {
      "cell_type": "code",
      "metadata": {
        "id": "swjdxEt_IaOy",
        "colab_type": "code",
        "colab": {}
      },
      "source": [
        "!rm -rf back_trans_data/ augmented_data.csv code.py data.csv run_file.sh sent_to_paragraph.py split_paragraphs.py transcripts.txt"
      ],
      "execution_count": null,
      "outputs": []
    },
    {
      "cell_type": "code",
      "metadata": {
        "id": "QbxeplWuFVr-",
        "colab_type": "code",
        "colab": {
          "base_uri": "https://localhost:8080/",
          "height": 1000
        },
        "outputId": "93a96f1d-1a4b-4ec2-8fa1-2baea3e9f86d"
      },
      "source": [
        "!bash run_file.sh"
      ],
      "execution_count": null,
      "outputs": []
    },
    {
      "cell_type": "code",
      "metadata": {
        "id": "hsz-FXKwHLU9",
        "colab_type": "code",
        "colab": {}
      },
      "source": [
        "import pandas as pd\n",
        "augmented_list=[]\n",
        "\n",
        "with open('back_trans_data/paraphrase/file_0_of_1.csv') as tf:\n",
        "\tfor line in tf:\n",
        "\t\taugmented_list.append(line)\n",
        "\n",
        "\t\tdf=pd.DataFrame(columns=['Reviews'])\n",
        "df['Reviews']=augmented_list\n",
        "df.to_csv(\"augmented_data.csv\",index=False)"
      ],
      "execution_count": null,
      "outputs": []
    },
    {
      "cell_type": "code",
      "metadata": {
        "id": "aMIjbCaWHPkk",
        "colab_type": "code",
        "colab": {}
      },
      "source": [
        ""
      ],
      "execution_count": null,
      "outputs": []
    }
  ]
}